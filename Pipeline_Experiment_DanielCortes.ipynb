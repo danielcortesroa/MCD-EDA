{
 "cells": [
  {
   "cell_type": "markdown",
   "metadata": {
    "id": "U91hkLpi-SBV"
   },
   "source": [
    "#Imports"
   ]
  },
  {
   "cell_type": "code",
   "execution_count": 62,
   "metadata": {
    "id": "8cjFGNq0P_re"
   },
   "outputs": [],
   "source": [
    "# Based on https://towardsdatascience.com/pipelines-custom-transformers-in-scikit-learn-the-step-by-step-guide-with-python-code-4a7d9b068156\n",
    "\n",
    "import numpy as np\n",
    "import pandas as pd\n",
    "import warnings\n",
    "warnings.filterwarnings('ignore')\n",
    "from sklearn.metrics import mean_squared_error\n",
    "\n",
    "from sklearn.preprocessing import StandardScaler, PowerTransformer\n",
    "from sklearn.compose import TransformedTargetRegressor\n",
    "from sklearn.pipeline import FeatureUnion, Pipeline, make_pipeline\n",
    "from sklearn.base import BaseEstimator, TransformerMixin\n",
    "\n",
    "from sklearn.linear_model import LinearRegression"
   ]
  },
  {
   "cell_type": "markdown",
   "metadata": {
    "id": "aZ7KzRqK-KHL"
   },
   "source": [
    "#Pipeline Experiment"
   ]
  },
  {
   "cell_type": "code",
   "execution_count": 63,
   "metadata": {
    "id": "D13TnX_2_mLi"
   },
   "outputs": [],
   "source": [
    "df = pd.DataFrame(columns=['X1', 'X2', 'y'], data=[\n",
    "                                                    [1, 16, 13],\n",
    "                                                    [4, 36, 22],\n",
    "                                                    [1, 16, 13],\n",
    "                                                    [2, 9, 11],\n",
    "                                                    [3, 36, 21],\n",
    "                                                    [2, 49, 23],\n",
    "                                                    [4, 25, 19],\n",
    "                                                    [5, 36, 23]\n",
    "])\n",
    "\n",
    "### y = X1 + 3 * sqrt(X2)\n",
    "# Esto asegura que un modelo de regresión lineal simple no pueda ajustarse perfectamente.\n",
    "\n"
   ]
  },
  {
   "cell_type": "code",
   "execution_count": 64,
   "metadata": {
    "colab": {
     "base_uri": "https://localhost:8080/",
     "height": 301
    },
    "id": "WZWUhfKiArrW",
    "outputId": "b85089a9-cc68-464b-b02d-7a1b56c7a2f8"
   },
   "outputs": [
    {
     "data": {
      "text/html": [
       "<div>\n",
       "<style scoped>\n",
       "    .dataframe tbody tr th:only-of-type {\n",
       "        vertical-align: middle;\n",
       "    }\n",
       "\n",
       "    .dataframe tbody tr th {\n",
       "        vertical-align: top;\n",
       "    }\n",
       "\n",
       "    .dataframe thead th {\n",
       "        text-align: right;\n",
       "    }\n",
       "</style>\n",
       "<table border=\"1\" class=\"dataframe\">\n",
       "  <thead>\n",
       "    <tr style=\"text-align: right;\">\n",
       "      <th></th>\n",
       "      <th>X1</th>\n",
       "      <th>X2</th>\n",
       "      <th>y</th>\n",
       "    </tr>\n",
       "  </thead>\n",
       "  <tbody>\n",
       "    <tr>\n",
       "      <th>0</th>\n",
       "      <td>1</td>\n",
       "      <td>16</td>\n",
       "      <td>13</td>\n",
       "    </tr>\n",
       "    <tr>\n",
       "      <th>1</th>\n",
       "      <td>4</td>\n",
       "      <td>36</td>\n",
       "      <td>22</td>\n",
       "    </tr>\n",
       "    <tr>\n",
       "      <th>2</th>\n",
       "      <td>1</td>\n",
       "      <td>16</td>\n",
       "      <td>13</td>\n",
       "    </tr>\n",
       "    <tr>\n",
       "      <th>3</th>\n",
       "      <td>2</td>\n",
       "      <td>9</td>\n",
       "      <td>11</td>\n",
       "    </tr>\n",
       "    <tr>\n",
       "      <th>4</th>\n",
       "      <td>3</td>\n",
       "      <td>36</td>\n",
       "      <td>21</td>\n",
       "    </tr>\n",
       "    <tr>\n",
       "      <th>5</th>\n",
       "      <td>2</td>\n",
       "      <td>49</td>\n",
       "      <td>23</td>\n",
       "    </tr>\n",
       "    <tr>\n",
       "      <th>6</th>\n",
       "      <td>4</td>\n",
       "      <td>25</td>\n",
       "      <td>19</td>\n",
       "    </tr>\n",
       "    <tr>\n",
       "      <th>7</th>\n",
       "      <td>5</td>\n",
       "      <td>36</td>\n",
       "      <td>23</td>\n",
       "    </tr>\n",
       "  </tbody>\n",
       "</table>\n",
       "</div>"
      ],
      "text/plain": [
       "   X1  X2   y\n",
       "0   1  16  13\n",
       "1   4  36  22\n",
       "2   1  16  13\n",
       "3   2   9  11\n",
       "4   3  36  21\n",
       "5   2  49  23\n",
       "6   4  25  19\n",
       "7   5  36  23"
      ]
     },
     "execution_count": 64,
     "metadata": {},
     "output_type": "execute_result"
    }
   ],
   "source": [
    "df"
   ]
  },
  {
   "cell_type": "code",
   "execution_count": 65,
   "metadata": {
    "id": "fhnmaUB-Ar2M"
   },
   "outputs": [],
   "source": [
    "# Separamos en train y test\n",
    "\n",
    "train = df.iloc[:6]\n",
    "test = df.iloc[6:]\n",
    "\n",
    "train_X = train.drop('y', axis=1)\n",
    "train_y = train.y\n",
    "\n",
    "test_X = test.drop('y', axis=1)\n",
    "test_y = test.y"
   ]
  },
  {
   "cell_type": "code",
   "execution_count": 66,
   "metadata": {
    "colab": {
     "base_uri": "https://localhost:8080/",
     "height": 112
    },
    "id": "kH0rMqVPD5Dr",
    "outputId": "09294a99-47f1-4fd2-e7b4-da5806255ae6"
   },
   "outputs": [
    {
     "data": {
      "text/html": [
       "<div>\n",
       "<style scoped>\n",
       "    .dataframe tbody tr th:only-of-type {\n",
       "        vertical-align: middle;\n",
       "    }\n",
       "\n",
       "    .dataframe tbody tr th {\n",
       "        vertical-align: top;\n",
       "    }\n",
       "\n",
       "    .dataframe thead th {\n",
       "        text-align: right;\n",
       "    }\n",
       "</style>\n",
       "<table border=\"1\" class=\"dataframe\">\n",
       "  <thead>\n",
       "    <tr style=\"text-align: right;\">\n",
       "      <th></th>\n",
       "      <th>X1</th>\n",
       "      <th>X2</th>\n",
       "    </tr>\n",
       "  </thead>\n",
       "  <tbody>\n",
       "    <tr>\n",
       "      <th>6</th>\n",
       "      <td>4</td>\n",
       "      <td>25</td>\n",
       "    </tr>\n",
       "    <tr>\n",
       "      <th>7</th>\n",
       "      <td>5</td>\n",
       "      <td>36</td>\n",
       "    </tr>\n",
       "  </tbody>\n",
       "</table>\n",
       "</div>"
      ],
      "text/plain": [
       "   X1  X2\n",
       "6   4  25\n",
       "7   5  36"
      ]
     },
     "execution_count": 66,
     "metadata": {},
     "output_type": "execute_result"
    }
   ],
   "source": [
    "test_X"
   ]
  },
  {
   "cell_type": "code",
   "execution_count": 67,
   "metadata": {
    "colab": {
     "base_uri": "https://localhost:8080/"
    },
    "id": "Wd_emlUpBbig",
    "outputId": "50ae565f-070b-4d84-bcca-5cd066393c6f"
   },
   "outputs": [
    {
     "name": "stdout",
     "output_type": "stream",
     "text": [
      "\n",
      "[18.58170379 22.900017  ]\n",
      "RMSE: 0.30411208233240933\n",
      "\n"
     ]
    }
   ],
   "source": [
    "#  verificacmos si la regresión lineal puede predecir correctamente\n",
    "\n",
    "m1 = LinearRegression()\n",
    "fit1 = m1.fit(train_X, train_y)\n",
    "preds = fit1.predict(test_X)\n",
    "print(f\"\\n{preds}\")\n",
    "print(f\"RMSE: {np.sqrt(mean_squared_error(test_y, preds))}\\n\")"
   ]
  },
  {
   "cell_type": "code",
   "execution_count": 68,
   "metadata": {
    "colab": {
     "base_uri": "https://localhost:8080/"
    },
    "id": "zQayYrzmDWE7",
    "outputId": "823988d6-8fef-4193-ff77-4ad0758e69d1"
   },
   "outputs": [
    {
     "name": "stdout",
     "output_type": "stream",
     "text": [
      "   X1    X2\n",
      "6   4  15.0\n",
      "7   5  18.0\n",
      "\n",
      "[19. 23.]\n",
      "RMSE: 3.552713678800501e-15\n",
      "\n"
     ]
    }
   ],
   "source": [
    "# Las predicciones no son malas, pero hagamos algunos cálculos sobre las características de entrada para mejorar\n",
    "# ¿Qué pasa si sacamos la raíz cuadrada de X2 y multiplicamos por 2?\n",
    "\n",
    "train_X.X2 = 3 * np.sqrt(train_X.X2)\n",
    "\n",
    "test_X.X2 = 3 * np.sqrt(test_X.X2)\n",
    "\n",
    "print(test_X)\n",
    "\n",
    "m2 = LinearRegression()\n",
    "\n",
    "fit2 = m2.fit(train_X, train_y)\n",
    "\n",
    "preds = fit2.predict(test_X)\n",
    "\n",
    "print(f\"\\n{preds}\")\n",
    "\n",
    "print(f\"RMSE: {np.sqrt(mean_squared_error(test_y, preds))}\\n\")"
   ]
  },
  {
   "cell_type": "code",
   "execution_count": 69,
   "metadata": {
    "id": "xMrbwYDDNFKu"
   },
   "outputs": [],
   "source": [
    "# una predicción perfecta, porque los datos después de la transformación se ajustan a una tendencia lineal perfecta.\n"
   ]
  },
  {
   "cell_type": "code",
   "execution_count": 70,
   "metadata": {
    "id": "FNLvRe08CUE5"
   },
   "outputs": [],
   "source": [
    "# Restauremos los datos a sus valores originales y hagámoslo mediante transformadores personalizados mediante canalización.\n",
    "\n",
    "train = df.iloc[:6]\n",
    "test = df.iloc[6:]\n",
    "\n",
    "train_X = train.drop('y', axis=1)\n",
    "train_y = train.y\n",
    "\n",
    "test_X = test.drop('y', axis=1)\n",
    "test_y = test.y"
   ]
  },
  {
   "cell_type": "code",
   "execution_count": 71,
   "metadata": {
    "id": "SD08IkZP-Lam"
   },
   "outputs": [],
   "source": [
    "# Creamos una clase transformadora\n",
    "\n",
    "#__init__: este es el constructor. Se llama cuando se inicializa el pipeline.\n",
    "#fit(): Se llama cuando hacemos fit en el pipeline.\n",
    "#transform(): se llama cuando usamos fit o transform en el pipeline\n",
    "\n",
    "class ExperimentalTransformer(BaseEstimator, TransformerMixin):\n",
    "  def __init__(self):\n",
    "    print('\\n>>>>>>>init() called.\\n')\n",
    "\n",
    "  def fit(self, X, y = None):\n",
    "    print('\\n>>>>>>>fit() called.\\n')\n",
    "    return self\n",
    "\n",
    "  def transform(self, X, y = None):\n",
    "    print('\\n>>>>>>>transform() called.\\n')\n",
    "    X_ = X.copy() # creamos una copia para evitar cambios en el conjunto de datos original\n",
    "    X_.X2 = 3 * np.sqrt(X_.X2)\n",
    "    return X_"
   ]
  },
  {
   "cell_type": "code",
   "execution_count": 72,
   "metadata": {
    "colab": {
     "base_uri": "https://localhost:8080/"
    },
    "id": "spUiscMUPY83",
    "outputId": "d08cfaf9-6616-4c85-dac7-89a6ff6e6da0"
   },
   "outputs": [
    {
     "name": "stdout",
     "output_type": "stream",
     "text": [
      "create pipeline 1\n",
      "fit pipeline 1\n",
      "predict via pipeline 1\n",
      "\n",
      "[18.58170379 22.900017  ]\n",
      "RMSE: 0.30411208233240933\n",
      "\n"
     ]
    }
   ],
   "source": [
    "# sin transformación de entrada - para validar que obtenemos los mismos resultados que antes\n",
    "\n",
    "\n",
    "print(\"create pipeline 1\")\n",
    "pipe1 = Pipeline(steps=[\n",
    "                       ('linear_model', LinearRegression())\n",
    "])\n",
    "\n",
    "print(\"fit pipeline 1\")\n",
    "pipe1.fit(train_X, train_y)\n",
    "\n",
    "print(\"predict via pipeline 1\")\n",
    "preds1 = pipe1.predict(test_X)\n",
    "\n",
    "print(f\"\\n{preds1}\")  # should be [13.72113586 16.93334467]\n",
    "print(f\"RMSE: {np.sqrt(mean_squared_error(test_y, preds1))}\\n\")"
   ]
  },
  {
   "cell_type": "code",
   "execution_count": 73,
   "metadata": {
    "colab": {
     "base_uri": "https://localhost:8080/"
    },
    "id": "OFTnGVww_kIi",
    "outputId": "16e4a021-30b8-459c-f37a-e9a884a9d4c0"
   },
   "outputs": [
    {
     "name": "stdout",
     "output_type": "stream",
     "text": [
      "create pipeline 2\n",
      "\n",
      ">>>>>>>init() called.\n",
      "\n",
      "fit pipeline 2\n",
      "\n",
      ">>>>>>>fit() called.\n",
      "\n",
      "\n",
      ">>>>>>>transform() called.\n",
      "\n",
      "predict via pipeline 2\n",
      "\n",
      ">>>>>>>transform() called.\n",
      "\n",
      "\n",
      "[19. 23.]\n",
      "RMSE: 3.552713678800501e-15\n",
      "\n"
     ]
    }
   ],
   "source": [
    "# con transformation de entradas\n",
    "\n",
    "print(\"create pipeline 2\")\n",
    "pipe2 = Pipeline(steps=[\n",
    "                       ('experimental_trans', ExperimentalTransformer()),    # esto dispara una llamda a __init__\n",
    "                       ('linear_model', LinearRegression())\n",
    "])\n",
    "\n",
    "# una sintaxis alternativa y más corta para hacer lo anterior, sin nombrar cada paso, es:\n",
    "#pipe2 = make_pipeline(ExperimentalTransformer(), LinearRegression())\n",
    "\n",
    "print(\"fit pipeline 2\")\n",
    "pipe2.fit(train_X, train_y)\n",
    "\n",
    "print(\"predict via pipeline 2\")\n",
    "preds2 = pipe2.predict(test_X)\n",
    "\n",
    "print(f\"\\n{preds2}\")  # should be [14. 17.]\n",
    "print(f\"RMSE: {np.sqrt(mean_squared_error(test_y, preds2))}\\n\")\n",
    "\n",
    "\n",
    "\n",
    "# a. __init__ se llama cuando inicializamos pipe2.\n",
    "\n",
    "# b. fit() y transform() se llaman cuando llamamos fit() con los datos de entrenamiento.\n",
    "# Esto es necesario para transformar las características de entrada mientras se intenta predecir train_y.\n",
    "\n",
    "# c. transform() se llama  cuando usamos predict(test_X): las características de prueba de entrada deben tener raíz cuadrada y duplicarse también antes de hacer predicciones."
   ]
  }
 ],
 "metadata": {
  "colab": {
   "include_colab_link": true,
   "provenance": []
  },
  "kernelspec": {
   "display_name": "Python 3 (ipykernel)",
   "language": "python",
   "name": "python3"
  },
  "language_info": {
   "codemirror_mode": {
    "name": "ipython",
    "version": 3
   },
   "file_extension": ".py",
   "mimetype": "text/x-python",
   "name": "python",
   "nbconvert_exporter": "python",
   "pygments_lexer": "ipython3",
   "version": "3.10.9"
  }
 },
 "nbformat": 4,
 "nbformat_minor": 1
}
